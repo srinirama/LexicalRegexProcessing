{
 "cells": [
  {
   "cell_type": "code",
   "execution_count": 6,
   "metadata": {},
   "outputs": [],
   "source": [
    "import re\n",
    "from collections import Counter"
   ]
  },
  {
   "cell_type": "code",
   "execution_count": 7,
   "metadata": {},
   "outputs": [],
   "source": [
    "# function to tokenise words\n",
    "def words(document):\n",
    "    \"Convert text to lower case and tokenise the document\"\n",
    "    return re.findall(r'\\w+', document.lower())"
   ]
  },
  {
   "cell_type": "code",
   "execution_count": 8,
   "metadata": {},
   "outputs": [],
   "source": [
    "# create a frequency table of all the words of the document\n",
    "all_words = Counter(words(open('big.txt').read()))"
   ]
  },
  {
   "cell_type": "code",
   "execution_count": 9,
   "metadata": {},
   "outputs": [
    {
     "data": {
      "text/plain": [
       "135"
      ]
     },
     "execution_count": 9,
     "metadata": {},
     "output_type": "execute_result"
    }
   ],
   "source": [
    "# check frequency of a random word, say, 'chair'\n",
    "all_words['chair']"
   ]
  },
  {
   "cell_type": "code",
   "execution_count": 10,
   "metadata": {},
   "outputs": [
    {
     "data": {
      "text/plain": [
       "[('the', 79809),\n",
       " ('of', 40024),\n",
       " ('and', 38312),\n",
       " ('to', 28765),\n",
       " ('in', 22023),\n",
       " ('a', 21124),\n",
       " ('that', 12512),\n",
       " ('he', 12401),\n",
       " ('was', 11410),\n",
       " ('it', 10681)]"
      ]
     },
     "execution_count": 10,
     "metadata": {},
     "output_type": "execute_result"
    }
   ],
   "source": [
    "# look at top 10 frequent words\n",
    "all_words.most_common(10)"
   ]
  },
  {
   "cell_type": "code",
   "execution_count": 11,
   "metadata": {},
   "outputs": [],
   "source": [
    "def edits_one(word):\n",
    "    \"Create all edits that are one edit away from `word`.\"\n",
    "    alphabets    = 'abcdefghijklmnopqrstuvwxyz'\n",
    "    splits     = [(word[:i], word[i:])                   for i in range(len(word) + 1)]\n",
    "    deletes    = [left + right[1:]                       for left, right in splits if right]\n",
    "    inserts    = [left + c + right                       for left, right in splits for c in alphabets]\n",
    "    replaces   = [left + c + right[1:]                   for left, right in splits if right for c in alphabets]\n",
    "    transposes = [left + right[1] + right[0] + right[2:] for left, right in splits if len(right)>1]\n",
    "    return set(deletes + inserts + replaces + transposes)"
   ]
  },
  {
   "cell_type": "code",
   "execution_count": 12,
   "metadata": {},
   "outputs": [],
   "source": [
    "def edits_two(word):\n",
    "    \"Create all edits that are two edits away from `word`.\"\n",
    "    return (e2 for e1 in edits_one(word) for e2 in edits_one(e1))"
   ]
  },
  {
   "cell_type": "code",
   "execution_count": 13,
   "metadata": {},
   "outputs": [],
   "source": [
    "def known(words):\n",
    "    \"The subset of `words` that appear in the `all_words`.\"\n",
    "    return set(word for word in words if word in all_words)"
   ]
  },
  {
   "cell_type": "code",
   "execution_count": 14,
   "metadata": {},
   "outputs": [],
   "source": [
    "def possible_corrections(word):\n",
    "    \"Generate possible spelling corrections for word.\"\n",
    "    return (known([word]) or known(edits_one(word)) or known(edits_two(word)) or [word])"
   ]
  },
  {
   "cell_type": "code",
   "execution_count": 15,
   "metadata": {},
   "outputs": [],
   "source": [
    "def prob(word, N=sum(all_words.values())): \n",
    "    \"Probability of `word`: Number of appearances of 'word' / total number of tokens\"\n",
    "    return all_words[word] / N"
   ]
  },
  {
   "cell_type": "code",
   "execution_count": 16,
   "metadata": {},
   "outputs": [
    {
     "name": "stdout",
     "output_type": "stream",
     "text": [
      "336\n",
      "{'monneyp', 'monnye', 'monneyh', 'monner', 'monnney', 'ronney', 'monnety', 'moeney', 'monkey', 'monne', 'monneyb', 'imonney', 'monnqy', 'mmonney', 'monvey', 'monbney', 'monneoy', 'monnpey', 'monnzey', 'mfonney', 'moenney', 'eonney', 'monfey', 'monnel', 'monqey', 'monnty', 'mkonney', 'monnezy', 'mownney', 'mxonney', 'moncey', 'monneyt', 'qonney', 'dmonney', 'monaney', 'ymonney', 'mohnney', 'monnley', 'monbey', 'monley', 'jonney', 'gmonney', 'monnfey', 'monnoey', 'mgnney', 'monnee', 'mobnney', 'mqnney', 'monnaey', 'moneny', 'monnjy', 'moqney', 'monneyg', 'monzney', 'zonney', 'monoey', 'monnep', 'monxey', 'mononey', 'smonney', 'monnry', 'monnew', 'monnmey', 'monnwey', 'monlney', 'mpnney', 'monwey', 'monnedy', 'mznney', 'monnec', 'monnkey', 'monneym', 'monzey', 'monneyj', 'mofney', 'moaney', 'mvonney', 'monnpy', 'monhey', 'monnjey', 'monnem', 'lonney', 'monneye', 'momney', 'moynney', 'monnhy', 'monxney', 'monniy', 'monnhey', 'monneyo', 'monvney', 'monneu', 'bonney', 'moxney', 'moonney', 'uonney', 'monneyy', 'movney', 'monnef', 'aonney', 'mnonney', 'xonney', 'mnnney', 'monrey', 'fmonney', 'monneby', 'minney', 'omnney', 'monrney', 'montney', 'lmonney', 'mjonney', 'mosney', 'monpney', 'tmonney', 'modney', 'mtnney', 'monjney', 'moiney', 'mnoney', 'monneq', 'muonney', 'mojnney', 'mbnney', 'mcnney', 'monnea', 'monneyr', 'monnej', 'monneys', 'emonney', 'monnecy', 'monney', 'nmonney', 'monneyu', 'monneya', 'wmonney', 'monmney', 'moinney', 'monnevy', 'msnney', 'money', 'mfnney', 'xmonney', 'mdonney', 'mqonney', 'monneyz', 'monnewy', 'tonney', 'monnmy', 'mjnney', 'mopnney', 'monnsey', 'donney', 'pmonney', 'monnejy', 'monnzy', 'msonney', 'mofnney', 'monnbey', 'fonney', 'monnepy', 'monnuey', 'moniney', 'molney', 'mmnney', 'monneay', 'monngy', 'monnuy', 'monnexy', 'monneyv', 'monneey', 'monneyq', 'kmonney', 'monnyy', 'mogney', 'moqnney', 'monnny', 'monneyi', 'mounney', 'monnery', 'monneyk', 'bmonney', 'rmonney', 'monnxey', 'monndey', 'monnek', 'monnoy', 'monjey', 'monnvey', 'mozney', 'monhney', 'mouney', 'mynney', 'mwonney', 'conney', 'vmonney', 'monsney', 'monyney', 'moanney', 'konney', 'mlonney', 'mondney', 'monniey', 'mohney', 'monnet', 'mornney', 'monnrey', 'monneyd', 'monnesy', 'monny', 'monmey', 'monnby', 'meonney', 'monnen', 'myonney', 'mocney', 'mknney', 'monnex', 'motney', 'monngey', 'wonney', 'menney', 'mhnney', 'monkney', 'monnfy', 'moxnney', 'monuey', 'hmonney', 'ponney', 'mxnney', 'monnky', 'monnly', 'honney', 'monpey', 'monncey', 'monneyl', 'monndy', 'monnwy', 'monneuy', 'mwnney', 'mocnney', 'monnyey', 'manney', 'munney', 'monuney', 'monned', 'mtonney', 'monnehy', 'mponney', 'monnefy', 'monfney', 'monntey', 'monneyw', 'monneg', 'monnxy', 'onney', 'motnney', 'mgonney', 'ionney', 'monyey', 'gonney', 'yonney', 'moneney', 'morney', 'sonney', 'monneyn', 'mdnney', 'moyney', 'vonney', 'jmonney', 'mbonney', 'movnney', 'oonney', 'umonney', 'mopney', 'monneo', 'monnemy', 'nonney', 'monneh', 'mondey', 'mconney', 'monnely', 'monwney', 'mongey', 'monneny', 'mzonney', 'monnegy', 'monneyf', 'mrnney', 'mognney', 'monaey', 'cmonney', 'monneyx', 'modnney', 'monsey', 'monnay', 'zmonney', 'montey', 'mobney', 'mosnney', 'moknney', 'monnev', 'mojney', 'monneky', 'monqney', 'moncney', 'monnvy', 'mowney', 'mooney', 'moniey', 'monneqy', 'monnqey', 'amonney', 'mlnney', 'monnei', 'mongney', 'monncy', 'molnney', 'mronney', 'moznney', 'moneey', 'monnez', 'mionney', 'mvnney', 'mnney', 'momnney', 'monneb', 'maonney', 'monneyc', 'mokney', 'monneiy', 'mhonney', 'monnes', 'monnsy', 'qmonney', 'omonney'}\n"
     ]
    }
   ],
   "source": [
    "print(len(set(edits_one(\"monney\"))))\n",
    "print(edits_one(\"monney\"))"
   ]
  },
  {
   "cell_type": "code",
   "execution_count": 17,
   "metadata": {},
   "outputs": [
    {
     "name": "stdout",
     "output_type": "stream",
     "text": [
      "{'emfasijze', 'semfasize', 'effasize', 'emfaaize', 'elfasize', 'emfasie', 'emfasgize', 'emfausize', 'emfasuize', 'emfasirze', 'emfarsize', 'emfatsize', 'emfaqize', 'emfzsize', 'emfasizl', 'emfiasize', 'emfasizc', 'emfbsize', 'xemfasize', 'fmfasize', 'emfasiye', 'emfasrze', 'emtfasize', 'emfasizse', 'emrfasize', 'emfasizu', 'enfasize', 'emfasigze', 'emfasizel', 'emfysize', 'hemfasize', 'emfasioe', 'emfassize', 'emfasizen', 'emfasizeq', 'zemfasize', 'emfaisze', 'emfaoize', 'emfasisze', 'emfasizxe', 'evfasize', 'emfauize', 'eimfasize', 'emfrsize', 'emfasizle', 'emfastize', 'ejfasize', 'emfpsize', 'emqfasize', 'emfwasize', 'emfastze', 'emfjasize', 'emfayize', 'emuasize', 'tmfasize', 'remfasize', 'emfasizeu', 'emwfasize', 'emfaswize', 'emfavsize', 'emfasizw', 'emfisize', 'memfasize', 'emfasizue', 'eifasize', 'emfaskze', 'ermfasize', 'emfasvize', 'emfasizes', 'emfasize', 'wemfasize', 'emfsasize', 'eufasize', 'emfasire', 'emmasize', 'eymfasize', 'emfasizex', 'eamfasize', 'emfasizez', 'emfdasize', 'ehmfasize', 'emfasiyze', 'emfasaize', 'emfasice', 'emfasidze', 'emfasiez', 'emfksize', 'emfagize', 'emtasize', 'emfzasize', 'emfgsize', 'emfhsize', 'embfasize', 'emfasile', 'emfasizne', 'emfasizqe', 'ebfasize', 'emfasizec', 'embasize', 'emfasizev', 'emfuasize', 'emfasivze', 'emfasizze', 'emfasizer', 'emfasike', 'rmfasize', 'emfasixe', 'emfjsize', 'emfasuze', 'bmfasize', 'emfamsize', 'emfasibe', 'emfajsize', 'emfasizae', 'emfasizke', 'mefasize', 'emgfasize', 'emvasize', 'emfazsize', 'ecfasize', 'emfasyize', 'emfasizve', 'emjasize', 'emfasizep', 'hmfasize', 'emfasiize', 'emhfasize', 'emfasfize', 'emfasrize', 'jmfasize', 'ekfasize', 'emfmsize', 'emfasizm', 'emzasize', 'emfasihze', 'emfasyze', 'emfasgze', 'emfaskize', 'nemfasize', 'emfpasize', 'emfeasize', 'emfasizge', 'emfasizeb', 'emfaslze', 'omfasize', 'ewfasize', 'mmfasize', 'emfasizet', 'emnfasize', 'umfasize', 'emfasizt', 'emfasizwe', 'emfafize', 'emfaseize', 'emfasizpe', 'emyasize', 'emfaseze', 'emfvasize', 'demfasize', 'emfyasize', 'emfaasize', 'emfasiae', 'emnasize', 'emfwsize', 'emfasizk', 'emfmasize', 'emfasmize', 'emfasizce', 'emfusize', 'emjfasize', 'emfasibze', 'emflasize', 'emfashze', 'lmfasize', 'emfnasize', 'gmfasize', 'emfqasize', 'emftasize', 'emfasfze', 'emfasizte', 'efasize', 'emfaswze', 'emfasizh', 'emfaesize', 'emufasize', 'emfqsize', 'emfasizek', 'emfasilze', 'emfakize', 'emfasizn', 'emfaspze', 'emfasizq', 'edmfasize', 'emfasite', 'ezmfasize', 'emfawize', 'emfasqize', 'ejmfasize', 'emfaiize', 'emfrasize', 'emfaeize', 'emfamize', 'emfabize', 'emfasoize', 'enmfasize', 'empasize', 'emfasizj', 'emeasize', 'emfasmze', 'evmfasize', 'emfasjze', 'emmfasize', 'emfaysize', 'emfaspize', 'emfafsize', 'ehfasize', 'etfasize', 'emfssize', 'emfasiuze', 'emlfasize', 'emfasieze', 'cemfasize', 'emftsize', 'iemfasize', 'emfabsize', 'emfawsize', 'emfasizew', 'emfasnize', 'emfatize', 'emfasizme', 'emfasjize', 'emfasizd', 'emfasifze', 'emfaisize', 'emfapsize', 'emdasize', 'emwasize', 'emfashize', 'pmfasize', 'vmfasize', 'exmfasize', 'exfasize', 'yemfasize', 'emfasizfe', 'emfasizre', 'emfasze', 'kmfasize', 'emfxasize', 'emkfasize', 'emfalsize', 'smfasize', 'emfasitze', 'xmfasize', 'emfhasize', 'emfasbize', 'emfasdize', 'pemfasize', 'emfaslize', 'ewmfasize', 'emsfasize', 'emfasixze', 'emfasiqe', 'emfarize', 'emifasize', 'emfasizje', 'emfaxize', 'emfasiwze', 'emfasnze', 'emfasise', 'emfaszze', 'emfvsize', 'emfahize', 'gemfasize', 'emfasiue', 'emfasizg', 'emfasizeg', 'emfascze', 'jemfasize', 'temfasize', 'emofasize', 'emfansize', 'emfadsize', 'emfasizee', 'emfasdze', 'mfasize', 'zmfasize', 'eemfasize', 'emfaosize', 'egfasize', 'etmfasize', 'emfasihe', 'epmfasize', 'egmfasize', 'emfasikze', 'emfasxize', 'eyfasize', 'emfapize', 'emfasive', 'uemfasize', 'elmfasize', 'esmfasize', 'emfasige', 'emfasizea', 'efmfasize', 'emxasize', 'dmfasize', 'emfasizej', 'emfasizeh', 'emsasize', 'emfasiee', 'emrasize', 'emzfasize', 'emfesize', 'emfaxsize', 'qmfasize', 'emfasipze', 'emfacsize', 'emfagsize', 'emfaize', 'emfasizhe', 'efmasize', 'emfasife', 'emfasizy', 'emfasipe', 'emfaside', 'emoasize', 'emfasinze', 'ecmfasize', 'nmfasize', 'emfasimze', 'emfasized', 'emfasine', 'emfadize', 'emfasbze', 'emhasize', 'emefasize', 'emfasvze', 'epfasize', 'lemfasize', 'emfasiwe', 'wmfasize', 'emafsize', 'kemfasize', 'emfasizeo', 'vemfasize', 'eofasize', 'emfasizbe', 'eafasize', 'emfasiz', 'erfasize', 'oemfasize', 'emfasizo', 'emfasizb', 'emfsize', 'emfaqsize', 'emfasizx', 'emffsize', 'ymfasize', 'emqasize', 'emfkasize', 'eqmfasize', 'ebmfasize', 'edfasize', 'emfasaze', 'eomfasize', 'emfasime', 'emfasoze', 'emdfasize', 'emfasizei', 'empfasize', 'emflsize', 'emfalize', 'emfasizem', 'emfaszize', 'emfasiza', 'qemfasize', 'emffasize', 'emfassze', 'emafasize', 'emfasiie', 'emfasizey', 'emfasizoe', 'emkasize', 'emfasije', 'emfosize', 'eqfasize', 'emfxsize', 'emfasizf', 'aemfasize', 'emfasicze', 'emfcsize', 'emfasizr', 'emvfasize', 'ekmfasize', 'emfascize', 'emfasizp', 'emfahsize', 'emfaksize', 'emfasizi', 'emyfasize', 'bemfasize', 'emfsaize', 'emfdsize', 'emfasizye', 'emcasize', 'emgasize', 'femfasize', 'eefasize', 'emaasize', 'emfanize', 'emcfasize', 'emfasiaze', 'cmfasize', 'emfasizs', 'emfcasize', 'ezfasize', 'emlasize', 'emfasiqze', 'emfasizde', 'esfasize', 'emfacize', 'emfasizz', 'emfasxze', 'emiasize', 'emfavize', 'emfasioze', 'emfasizie', 'emfasizv', 'emasize', 'eumfasize', 'emfoasize', 'amfasize', 'emfajize', 'emfasizef', 'emfgasize', 'emfbasize', 'emfnsize', 'emxfasize', 'imfasize', 'emfasqze', 'emfazize', 'emfaszie'}\n"
     ]
    }
   ],
   "source": [
    "print(edits_one('emfasize'))"
   ]
  },
  {
   "cell_type": "code",
   "execution_count": 19,
   "metadata": {},
   "outputs": [
    {
     "name": "stdout",
     "output_type": "stream",
     "text": [
      "442\n"
     ]
    }
   ],
   "source": [
    "print(len(edits_one('emfasize')))"
   ]
  },
  {
   "cell_type": "code",
   "execution_count": null,
   "metadata": {},
   "outputs": [],
   "source": [
    "print(known(edits_one(\"monney\")))"
   ]
  },
  {
   "cell_type": "code",
   "execution_count": null,
   "metadata": {},
   "outputs": [],
   "source": [
    "# Let's look at words that are two edits away\n",
    "print(len(set(edits_two(\"monney\"))))\n",
    "print(known(edits_one(\"monney\")))"
   ]
  },
  {
   "cell_type": "code",
   "execution_count": 23,
   "metadata": {},
   "outputs": [
    {
     "name": "stdout",
     "output_type": "stream",
     "text": [
      "{'emphasize'}\n"
     ]
    }
   ],
   "source": [
    "print(known(edits_two(\"emfasize\")))\n"
   ]
  },
  {
   "cell_type": "code",
   "execution_count": null,
   "metadata": {},
   "outputs": [],
   "source": [
    "# Let's look at possible corrections of a word\n",
    "print(possible_corrections(\"monney\"))"
   ]
  },
  {
   "cell_type": "code",
   "execution_count": 24,
   "metadata": {},
   "outputs": [
    {
     "name": "stdout",
     "output_type": "stream",
     "text": [
      "{'emphasize'}\n"
     ]
    }
   ],
   "source": [
    "# Let's look at possible corrections of a word\n",
    "print(possible_corrections(\"emfasize\"))"
   ]
  },
  {
   "cell_type": "code",
   "execution_count": null,
   "metadata": {},
   "outputs": [],
   "source": []
  },
  {
   "cell_type": "code",
   "execution_count": null,
   "metadata": {},
   "outputs": [],
   "source": [
    "# Let's look at probability of a word\n",
    "print(prob(\"money\"))\n",
    "print(prob(\"monkey\"))"
   ]
  },
  {
   "cell_type": "code",
   "execution_count": null,
   "metadata": {},
   "outputs": [],
   "source": [
    "def spell_check(word):\n",
    "    \"Print the most probable spelling correction for `word` out of all the `possible_corrections`\"\n",
    "    correct_word = max(possible_corrections(word), key=prob)\n",
    "    if correct_word != word:\n",
    "        return \"Did you mean \" + correct_word + \"?\"\n",
    "    else:\n",
    "        return \"Correct spelling.\""
   ]
  },
  {
   "cell_type": "code",
   "execution_count": null,
   "metadata": {},
   "outputs": [],
   "source": [
    "# test spell check\n",
    "print(spell_check(\"monney\"))"
   ]
  },
  {
   "cell_type": "code",
   "execution_count": null,
   "metadata": {},
   "outputs": [],
   "source": []
  },
  {
   "cell_type": "code",
   "execution_count": 27,
   "metadata": {},
   "outputs": [
    {
     "name": "stdout",
     "output_type": "stream",
     "text": [
      "remember\n"
     ]
    }
   ],
   "source": [
    "from spell_corrector import rectify\n",
    "correct = rectify(\"remeber\")\n",
    "print(correct)"
   ]
  },
  {
   "cell_type": "code",
   "execution_count": null,
   "metadata": {},
   "outputs": [],
   "source": []
  }
 ],
 "metadata": {
  "kernelspec": {
   "display_name": "Python 3 (ipykernel)",
   "language": "python",
   "name": "python3"
  },
  "language_info": {
   "codemirror_mode": {
    "name": "ipython",
    "version": 3
   },
   "file_extension": ".py",
   "mimetype": "text/x-python",
   "name": "python",
   "nbconvert_exporter": "python",
   "pygments_lexer": "ipython3",
   "version": "3.9.7"
  }
 },
 "nbformat": 4,
 "nbformat_minor": 2
}
