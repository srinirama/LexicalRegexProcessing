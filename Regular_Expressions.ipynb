{
 "cells": [
  {
   "cell_type": "markdown",
   "metadata": {},
   "source": [
    "## Regular Expressions\n",
    "\n",
    "https://pycon2016.regex.training/cheat-sheet\n",
    "\n",
    "Regular expression is a set of characters, called as the pattern, which helps in finding substrings in a given string. The pattern is used to detect the substrings\n",
    "\n",
    "For example, suppose you have a dataset of customer reviews about your restaurant. Say, you want to extract the emojis from the reviews because they are a good predictor os the sentiment of the review.\n",
    "\n",
    "Take another example, the artificial assistants such as Siri, Google Now use information retrieval to give you better results. When you ask them for any query or ask them to search for something interesting on the screen, they look for common patterns such as emails, phone numbers, place names, date and time and so on. This is because then the assitant can automatically make a booking or ask you to call the resturant to make a booking.\n",
    "\n",
    "Regular expressions are very powerful tool in text processing. It will help you to clean and handle your text in a much better way."
   ]
  },
  {
   "cell_type": "markdown",
   "metadata": {},
   "source": [
    "### Let's import the regular expression library in python."
   ]
  },
  {
   "cell_type": "code",
   "execution_count": 2,
   "metadata": {},
   "outputs": [],
   "source": [
    "import re"
   ]
  },
  {
   "cell_type": "markdown",
   "metadata": {},
   "source": [
    "Let's do a quick search using a pattern."
   ]
  },
  {
   "cell_type": "code",
   "execution_count": 3,
   "metadata": {},
   "outputs": [
    {
     "data": {
      "text/plain": [
       "<re.Match object; span=(0, 4), match='Ravi'>"
      ]
     },
     "execution_count": 3,
     "metadata": {},
     "output_type": "execute_result"
    }
   ],
   "source": [
    "re.search('Ravi', 'Ravi is an exceptional student!')"
   ]
  },
  {
   "cell_type": "code",
   "execution_count": 8,
   "metadata": {},
   "outputs": [
    {
     "name": "stdout",
     "output_type": "stream",
     "text": [
      "Ravi\n"
     ]
    }
   ],
   "source": [
    "# print output of re.search()\n",
    "match = re.search('Ravi', 'S.Ravis is an exceptional student!')\n",
    "print(match.group())"
   ]
  },
  {
   "cell_type": "markdown",
   "metadata": {},
   "source": [
    "Let's define a function to match regular expression patterns"
   ]
  },
  {
   "cell_type": "code",
   "execution_count": 10,
   "metadata": {},
   "outputs": [],
   "source": [
    "def find_pattern(text, patterns):\n",
    "    if re.search(patterns, text):\n",
    "        return re.search(patterns, text)\n",
    "    else:\n",
    "        return 'Not Found!'"
   ]
  },
  {
   "cell_type": "markdown",
   "metadata": {},
   "source": [
    "### Quantifiers"
   ]
  },
  {
   "cell_type": "code",
   "execution_count": 18,
   "metadata": {},
   "outputs": [
    {
     "name": "stdout",
     "output_type": "stream",
     "text": [
      "<re.Match object; span=(0, 1), match='a'>\n",
      "<re.Match object; span=(0, 2), match='ab'>\n",
      "<re.Match object; span=(0, 3), match='abb'>\n",
      "<re.Match object; span=(0, 1), match='a'>\n",
      "<re.Match object; span=(0, 2), match='ab'>\n",
      "<re.Match object; span=(1, 3), match='ab'>\n",
      "<re.Match object; span=(14, 20), match='intell'>\n"
     ]
    }
   ],
   "source": [
    "# '*': Zero or more \n",
    "print(find_pattern(\"ac\", \"ab*\"))\n",
    "print(find_pattern(\"abc\", \"ab*\"))\n",
    "print(find_pattern(\"abbc\", \"ab*\"))\n",
    "print(find_pattern(\"aabbc\", \"ab*\"))\n",
    "print(find_pattern(\"ab\", \"ab*\"))\n",
    "print(find_pattern(\"bab\", \"ab*\"))\n",
    "print(find_pattern(\"Poornima is a intelligent girl, but needs hard work\", \"intel*\"))\n",
    "\n",
    "\n",
    "#span - gives the index"
   ]
  },
  {
   "cell_type": "code",
   "execution_count": 6,
   "metadata": {},
   "outputs": [
    {
     "name": "stdout",
     "output_type": "stream",
     "text": [
      "<re.Match object; span=(0, 1), match='a'>\n",
      "<re.Match object; span=(0, 2), match='ab'>\n",
      "<re.Match object; span=(0, 2), match='ab'>\n"
     ]
    }
   ],
   "source": [
    "# '?': Zero or one (tells whether a pattern is absent or present)\n",
    "print(find_pattern(\"ac\", \"ab?\"))\n",
    "print(find_pattern(\"abc\", \"ab?\"))\n",
    "print(find_pattern(\"abbc\", \"ab?\"))"
   ]
  },
  {
   "cell_type": "code",
   "execution_count": 41,
   "metadata": {},
   "outputs": [
    {
     "name": "stdout",
     "output_type": "stream",
     "text": [
      "Not Found!\n",
      "<re.Match object; span=(0, 2), match='ab'>\n",
      "<re.Match object; span=(0, 3), match='abb'>\n",
      "<re.Match object; span=(0, 1), match='a'>\n",
      "<re.Match object; span=(0, 5), match='aaaaa'>\n"
     ]
    }
   ],
   "source": [
    "# '+': One or more\n",
    "print(find_pattern(\"ac\", \"ab+\"))\n",
    "print(find_pattern(\"abc\", \"ab+\"))\n",
    "print(find_pattern(\"abbc\", \"ab+\"))\n",
    "print(find_pattern(\"abc\", \"a+\"))\n",
    "print(find_pattern(\"aaaaabc\", \"a+\"))"
   ]
  },
  {
   "cell_type": "code",
   "execution_count": 19,
   "metadata": {},
   "outputs": [
    {
     "name": "stdout",
     "output_type": "stream",
     "text": [
      "<re.Match object; span=(0, 3), match='abb'>\n"
     ]
    }
   ],
   "source": [
    "# {n}: Matches if a character is present exactly n number of times\n",
    "print(find_pattern(\"abbc\", \"ab{2}\"))\n"
   ]
  },
  {
   "cell_type": "code",
   "execution_count": 24,
   "metadata": {},
   "outputs": [
    {
     "name": "stdout",
     "output_type": "stream",
     "text": [
      "<re.Match object; span=(3, 5), match='cx'>\n"
     ]
    }
   ],
   "source": [
    "print(find_pattern(\"123cxb\", \"[a-z]{2}\"))"
   ]
  },
  {
   "cell_type": "code",
   "execution_count": 28,
   "metadata": {},
   "outputs": [
    {
     "name": "stdout",
     "output_type": "stream",
     "text": [
      "<re.Match object; span=(1, 7), match='abbbbb'>\n",
      "Not Found!\n",
      "<re.Match object; span=(0, 15), match='aaaaaaaabbbbbbb'>\n",
      "<re.Match object; span=(0, 1), match='a'>\n",
      "Not Found!\n"
     ]
    }
   ],
   "source": [
    "# {m,n}: Matches if a character is present from m to n number of times\n",
    "print(find_pattern(\"aabbbbbbc\", \"ab{3,5}\"))   # return true if 'b' is present 3-5 times\n",
    "print(find_pattern(\"aabbbbbbc\", \"ab{7,10}\"))  # return true if 'b' is present 7-10 times\n",
    "print(find_pattern(\"aaaaaaaabbbbbbbc\", \"a{7,10}b{7,10}\"))  # return true if 'b' is present 7-10 times\n",
    "print(find_pattern(\"aabbbbbbc\", \"ab{,10}\"))   # return true if 'b' is present atmost 10 times\n",
    "print(find_pattern(\"aabbbbbbc\", \"ab{10,}\"))   # return true if 'b' is present from at least 10 times"
   ]
  },
  {
   "cell_type": "markdown",
   "metadata": {},
   "source": [
    "### Anchors"
   ]
  },
  {
   "cell_type": "code",
   "execution_count": 10,
   "metadata": {},
   "outputs": [
    {
     "name": "stdout",
     "output_type": "stream",
     "text": [
      "<re.Match object; span=(0, 1), match='J'>\n",
      "Not Found!\n",
      "<re.Match object; span=(4, 5), match='a'>\n",
      "Not Found!\n"
     ]
    }
   ],
   "source": [
    "# '^': Indicates start of a string\n",
    "# '$': Indicates end of string\n",
    "\n",
    "print(find_pattern(\"James\", \"^J\"))   # return true if string starts with 'J' \n",
    "print(find_pattern(\"Pramod\", \"^J\"))  # return true if string starts with 'J' \n",
    "print(find_pattern(\"India\", \"a$\"))   # return true if string ends with 'c'\n",
    "print(find_pattern(\"Japan\", \"a$\"))   # return true if string ends with 'c'\n"
   ]
  },
  {
   "cell_type": "markdown",
   "metadata": {},
   "source": [
    "### Wildcard"
   ]
  },
  {
   "cell_type": "code",
   "execution_count": 30,
   "metadata": {},
   "outputs": [
    {
     "name": "stdout",
     "output_type": "stream",
     "text": [
      "<re.Match object; span=(0, 1), match='a'>\n",
      "<re.Match object; span=(0, 1), match='#'>\n",
      "<re.Match object; span=(0, 1), match='*'>\n"
     ]
    }
   ],
   "source": [
    "# '.': Matches any character\n",
    "print(find_pattern(\"a\", \".\"))\n",
    "print(find_pattern(\"#\", \".\"))\n",
    "print(find_pattern(\"*$$\", \".\"))\n"
   ]
  },
  {
   "cell_type": "markdown",
   "metadata": {},
   "source": [
    "### Character sets"
   ]
  },
  {
   "cell_type": "code",
   "execution_count": 36,
   "metadata": {},
   "outputs": [
    {
     "name": "stdout",
     "output_type": "stream",
     "text": [
      "<re.Match object; span=(0, 1), match='a'>\n",
      "<re.Match object; span=(0, 1), match='c'>\n",
      "<re.Match object; span=(0, 2), match='ch'>\n"
     ]
    }
   ],
   "source": [
    "# Now we will look at '[' and ']'.\n",
    "# They're used for specifying a character class, which is a set of characters that you wish to match.\n",
    "# Characters can be listed individually as follows\n",
    "print(find_pattern(\"a\", \"[abc]\"))\n",
    "\n",
    "# Or a range of characters can be indicated by giving two characters and separating them by a '-'.\n",
    "print(find_pattern(\"c\", \"[a-c]\"))  # same as above\n",
    "\n",
    "print(find_pattern(\"characters\", \"[a-c].\"))  # same as above"
   ]
  },
  {
   "cell_type": "code",
   "execution_count": 37,
   "metadata": {},
   "outputs": [
    {
     "name": "stdout",
     "output_type": "stream",
     "text": [
      "Not Found!\n"
     ]
    }
   ],
   "source": [
    "# '^' is used inside character set to indicate complementary set\n",
    "print(find_pattern(\"a\", \"[^abc]\"))  # return true if neither of these is present - a,b or c"
   ]
  },
  {
   "cell_type": "markdown",
   "metadata": {},
   "source": [
    "### Character sets\n",
    "| Pattern  | Matches                                                                                    |\n",
    "|----------|--------------------------------------------------------------------------------------------|\n",
    "| [abc]    | Matches either an a, b or c character                                                      |\n",
    "| [abcABC] | Matches either an a, A, b, B, c or C character                                             |\n",
    "| [a-z]    | Matches any characters between a and z, including a and z                                  |\n",
    "| [A-Z]    | Matches any characters between A and Z, including A and Z                                  |\n",
    "| [a-zA-Z] | Matches any characters between a and z, including a and z ignoring cases of the characters |\n",
    "| [0-9]    | Matches any character which is a number between 0 and 9                                    |"
   ]
  },
  {
   "cell_type": "markdown",
   "metadata": {},
   "source": [
    "### Meta sequences\n",
    "\n",
    "| Pattern  | Equivalent to    |\n",
    "|----------|------------------|\n",
    "| \\s       | [ \\t\\n\\r\\f\\v]    |\n",
    "| \\S       | [^ \\t\\n\\r\\f\\v]   |\n",
    "| \\d       | [0-9]            |\n",
    "| \\D       | [^0-9]           |\n",
    "| \\w       | [a-zA-Z0-9_]     |\n",
    "| \\W       | [^a-zA-Z0-9_]    |"
   ]
  },
  {
   "cell_type": "markdown",
   "metadata": {},
   "source": [
    "### Greedy vs non-greedy regex"
   ]
  },
  {
   "cell_type": "code",
   "execution_count": 38,
   "metadata": {},
   "outputs": [
    {
     "name": "stdout",
     "output_type": "stream",
     "text": [
      "<re.Match object; span=(1, 7), match='abbbbb'>\n"
     ]
    }
   ],
   "source": [
    "print(find_pattern(\"aabbbbbb\", \"ab{3,5}\")) # return if a is followed by b 3-5 times GREEDY"
   ]
  },
  {
   "cell_type": "code",
   "execution_count": 39,
   "metadata": {},
   "outputs": [
    {
     "name": "stdout",
     "output_type": "stream",
     "text": [
      "<re.Match object; span=(1, 5), match='abbb'>\n"
     ]
    }
   ],
   "source": [
    "print(find_pattern(\"aabbbbbb\", \"ab{3,5}?\")) # return if a is followed by b 3-5 times GREEDY"
   ]
  },
  {
   "cell_type": "code",
   "execution_count": 16,
   "metadata": {},
   "outputs": [
    {
     "name": "stdout",
     "output_type": "stream",
     "text": [
      "<re.Match object; span=(0, 35), match='<HTML><TITLE>My Page</TITLE></HTML>'>\n"
     ]
    }
   ],
   "source": [
    "# Example of HTML code\n",
    "print(re.search(\"<.*>\",\"<HTML><TITLE>My Page</TITLE></HTML>\"))"
   ]
  },
  {
   "cell_type": "code",
   "execution_count": 17,
   "metadata": {},
   "outputs": [
    {
     "name": "stdout",
     "output_type": "stream",
     "text": [
      "<re.Match object; span=(0, 6), match='<HTML>'>\n"
     ]
    }
   ],
   "source": [
    "# Example of HTML code\n",
    "print(re.search(\"<.*?>\",\"<HTML><TITLE>My Page</TITLE></HTML>\"))"
   ]
  },
  {
   "cell_type": "markdown",
   "metadata": {},
   "source": [
    "### The five most important re functions that you would be required to use most of the times are\n",
    "\n",
    "match() Determine if the RE matches at the beginning of the string\n",
    "\n",
    "search() Scan through a string, looking for any location where this RE matches\n",
    "\n",
    "finall() Find all the substrings where the RE matches, and return them as a list\n",
    "\n",
    "finditer() Find all substrings where RE matches and return them as asn iterator\n",
    "\n",
    "sub() Find all substrings where the RE matches and substitute them with the given string"
   ]
  },
  {
   "cell_type": "code",
   "execution_count": 18,
   "metadata": {},
   "outputs": [],
   "source": [
    "# - this function uses the re.match() and let's see how it differs from re.search()\n",
    "def match_pattern(text, patterns):\n",
    "    if re.match(patterns, text):\n",
    "        return re.match(patterns, text)\n",
    "    else:\n",
    "        return ('Not found!')"
   ]
  },
  {
   "cell_type": "code",
   "execution_count": 19,
   "metadata": {},
   "outputs": [
    {
     "name": "stdout",
     "output_type": "stream",
     "text": [
      "<re.Match object; span=(1, 3), match='bb'>\n"
     ]
    }
   ],
   "source": [
    "print(find_pattern(\"abbc\", \"b+\"))"
   ]
  },
  {
   "cell_type": "code",
   "execution_count": 20,
   "metadata": {},
   "outputs": [
    {
     "name": "stdout",
     "output_type": "stream",
     "text": [
      "Not found!\n"
     ]
    }
   ],
   "source": [
    "print(match_pattern(\"abbc\", \"b+\"))"
   ]
  },
  {
   "cell_type": "code",
   "execution_count": 21,
   "metadata": {},
   "outputs": [
    {
     "name": "stdout",
     "output_type": "stream",
     "text": [
      "21 Ramakrishna Rd\n"
     ]
    }
   ],
   "source": [
    "## Example usage of the sub() function. Replace Road with rd.\n",
    "\n",
    "street = '21 Ramakrishna Road'\n",
    "print(re.sub('Road', 'Rd', street))"
   ]
  },
  {
   "cell_type": "code",
   "execution_count": 22,
   "metadata": {},
   "outputs": [
    {
     "name": "stdout",
     "output_type": "stream",
     "text": [
      "21 Rd Rd\n"
     ]
    }
   ],
   "source": [
    "print(re.sub('R\\w+', 'Rd', street))"
   ]
  },
  {
   "cell_type": "code",
   "execution_count": 23,
   "metadata": {},
   "outputs": [
    {
     "name": "stdout",
     "output_type": "stream",
     "text": [
      "START - 12END - 20\n",
      "START - 42END - 50\n"
     ]
    }
   ],
   "source": [
    "## Example usage of finditer(). Find all occurrences of word Festival in given sentence\n",
    "\n",
    "text = 'Diwali is a festival of lights, Holi is a festival of colors!'\n",
    "pattern = 'festival'\n",
    "for match in re.finditer(pattern, text):\n",
    "    print('START -', match.start(), end=\"\")\n",
    "    print('END -', match.end())"
   ]
  },
  {
   "cell_type": "code",
   "execution_count": 24,
   "metadata": {},
   "outputs": [
    {
     "name": "stdout",
     "output_type": "stream",
     "text": [
      "[('2017', '10', '28')]\n"
     ]
    }
   ],
   "source": [
    "# Example usage of findall(). In the given URL find all dates\n",
    "url = \"http://www.telegraph.co.uk/formula-1/2017/10/28/mexican-grand-prix-2017-time-does-start-tv-channel-odds-lewisl/2017/05/12\"\n",
    "date_regex = '/(\\d{4})/(\\d{1,2})/(\\d{1,2})/'\n",
    "print(re.findall(date_regex, url))"
   ]
  },
  {
   "cell_type": "code",
   "execution_count": 50,
   "metadata": {},
   "outputs": [
    {
     "name": "stdout",
     "output_type": "stream",
     "text": [
      "['ing', 'ing']\n",
      "2\n"
     ]
    }
   ],
   "source": [
    "import re\n",
    "import ast, sys\n",
    "string = 'ing Playing outdoor games when its raining outside is always fun!'\n",
    "\n",
    "# regex pattern\n",
    "pattern = '\\w+(ing)'# write regex to extract words ending with 'ing'\n",
    "#pattern = '(ing)'# write regex to extract words ending with 'ing'\n",
    "\n",
    "# store results in the list 'result'\n",
    "result = re.findall(pattern,string)# extract words having the required pattern, using the findall function\n",
    "\n",
    "print(result)\n",
    "# evaluate result - don't change the following piece of code, it is used to evaluate your regex\n",
    "print(len(result))"
   ]
  },
  {
   "cell_type": "code",
   "execution_count": 44,
   "metadata": {},
   "outputs": [
    {
     "name": "stdout",
     "output_type": "stream",
     "text": [
      "match = <re.Match object; span=(0, 2), match='Do'>\n",
      "match-group = Do\n",
      "match = <re.Match object; span=(3, 6), match='not'>\n",
      "match-group = not\n",
      "match = <re.Match object; span=(7, 14), match='compare'>\n",
      "match-group = compare\n",
      "match = <re.Match object; span=(15, 21), match='apples'>\n",
      "match-group = apples\n",
      "match = <re.Match object; span=(22, 26), match='with'>\n",
      "match-group = with\n",
      "match = <re.Match object; span=(27, 34), match='oranges'>\n",
      "match-group = oranges\n",
      "match = <re.Match object; span=(36, 43), match='Compare'>\n",
      "match-group = Compare\n",
      "match = <re.Match object; span=(44, 50), match='apples'>\n",
      "match-group = apples\n",
      "match = <re.Match object; span=(51, 55), match='with'>\n",
      "match-group = with\n",
      "match = <re.Match object; span=(56, 62), match='apples'>\n",
      "match-group = apples\n",
      "6\n"
     ]
    }
   ],
   "source": [
    "import re\n",
    "import ast, sys\n",
    "string = \"Do not compare apples with oranges. Compare apples with apples\"\n",
    "\n",
    "# regex pattern\n",
    "pattern ='\\w+' # write regex to extract all the words from a given piece of text\n",
    "\n",
    "# store results in the list 'result'\n",
    "result = []\n",
    "\n",
    "# iterate over the matches\n",
    "for match in re.finditer(pattern,string): # replace the ___ with the 'finditer' function to extract 'pattern' from the 'string'\n",
    "    print(\"match = {}\".format(match))\n",
    "    print(\"match-group = {}\".format(match.group()))\n",
    "    if len(match.group()) >= 5:\n",
    "        result.append(match)\n",
    "    else:\n",
    "        continue\n",
    "\n",
    "# evaluate result - don't change the following piece of code, it is used to evaluate your regex\n",
    "print(len(result))"
   ]
  },
  {
   "cell_type": "code",
   "execution_count": 25,
   "metadata": {},
   "outputs": [
    {
     "name": "stdout",
     "output_type": "stream",
     "text": [
      "/2017/10/28/\n"
     ]
    }
   ],
   "source": [
    "## Exploring Groups\n",
    "m1 = re.search(date_regex, url)\n",
    "print(m1.group())  ## print the matched group"
   ]
  },
  {
   "cell_type": "code",
   "execution_count": 26,
   "metadata": {},
   "outputs": [
    {
     "name": "stdout",
     "output_type": "stream",
     "text": [
      "2017\n"
     ]
    }
   ],
   "source": [
    "print(m1.group(1)) # - Print first group"
   ]
  },
  {
   "cell_type": "code",
   "execution_count": 27,
   "metadata": {},
   "outputs": [
    {
     "name": "stdout",
     "output_type": "stream",
     "text": [
      "10\n"
     ]
    }
   ],
   "source": [
    "print(m1.group(2)) # - Print second group"
   ]
  },
  {
   "cell_type": "code",
   "execution_count": 28,
   "metadata": {},
   "outputs": [
    {
     "name": "stdout",
     "output_type": "stream",
     "text": [
      "28\n"
     ]
    }
   ],
   "source": [
    "print(m1.group(3)) # - Print third group"
   ]
  },
  {
   "cell_type": "code",
   "execution_count": null,
   "metadata": {},
   "outputs": [],
   "source": []
  },
  {
   "cell_type": "code",
   "execution_count": 29,
   "metadata": {},
   "outputs": [
    {
     "name": "stdout",
     "output_type": "stream",
     "text": [
      "/2017/10/28/\n"
     ]
    }
   ],
   "source": [
    "print(m1.group(0)) # - Print zero or the default group"
   ]
  },
  {
   "cell_type": "code",
   "execution_count": 55,
   "metadata": {},
   "outputs": [
    {
     "name": "stdout",
     "output_type": "stream",
     "text": [
      "<re.Match object; span=(16, 26), match='01-06-2018'>\n",
      "01-06-2018\n",
      "01\n"
     ]
    }
   ],
   "source": [
    "import re\n",
    "import ast, sys\n",
    "string = \"Today's date is 01-06-2018\"\n",
    "\n",
    "# regex pattern\n",
    "pattern ='(\\d{1,2})-\\d{1,2}-\\d{4}' # write regex to extract date in DD-MM-YYYY format\n",
    "\n",
    "# store result\n",
    "result = re.search(pattern,string)  # pass the parameters to the re.search() function\n",
    "\n",
    "# evaluate result - don't change the following piece of code, it is used to evaluate your regex\n",
    "if result != None:\n",
    "    print(result)\n",
    "    print(result.group(0))  # result.group(0) will output the entire match\n",
    "    print(result.group(1)) # sub group\n",
    "    \n",
    "else:\n",
    "    print(False)"
   ]
  },
  {
   "cell_type": "code",
   "execution_count": 63,
   "metadata": {},
   "outputs": [
    {
     "name": "stdout",
     "output_type": "stream",
     "text": [
      "<re.Match object; span=(0, 27), match='ramanujam.sridhar@gmail.com'>\n",
      "gmail.com\n"
     ]
    }
   ],
   "source": [
    "import re\n",
    "import ast, sys\n",
    "string = 'ramanujam.sridhar@gmail.com'\n",
    "\n",
    "# regex pattern\n",
    "pattern = '[\\w.\\s]+@(\\w+.com)'# write regex to extract email and use groups to extract domain name ofthe mail\n",
    "\n",
    "# store result\n",
    "result = re.search(pattern, string)\n",
    "\n",
    "# extract domain using group command\n",
    "if result != None:\n",
    "    print(result)\n",
    "    domain = result.group(1)\n",
    "else:\n",
    "    domain = \"NA\"\n",
    "\n",
    "# evaluate result - don't change the following piece of code, it is used to evaluate your regex\n",
    "print(domain)"
   ]
  },
  {
   "cell_type": "code",
   "execution_count": 80,
   "metadata": {},
   "outputs": [
    {
     "name": "stdout",
     "output_type": "stream",
     "text": [
      "4\n"
     ]
    }
   ],
   "source": [
    "sent=\"The Nobel Prize is a set of five annual international awards bestowed in several categories by Swedish and Norwegian institutions in recognition of academic, cultural, or scientific advances. In the 19th century, the Nobel family who were known for their innovations to the oil industry in Azerbaijan was the leading representative of foreign capital in Baku. The Nobel Prize was funded by personal fortune of Alfred Nobel. The Board of the Nobel Foundation decided that after this addition, it would allow no further new prize.\"\n",
    "\n",
    "x = re.findall('[\\w\\s\\,]+[.]',sent)\n",
    "\n",
    "print(len(x))"
   ]
  },
  {
   "cell_type": "code",
   "execution_count": 85,
   "metadata": {},
   "outputs": [
    {
     "name": "stdout",
     "output_type": "stream",
     "text": [
      "<re.Match object; span=(522, 528), match='prize.'>\n"
     ]
    }
   ],
   "source": [
    "x = re.search('(prize)[.]',sent,flags=re.IGNORECASE)\n",
    "print(x)"
   ]
  },
  {
   "cell_type": "code",
   "execution_count": null,
   "metadata": {},
   "outputs": [],
   "source": []
  }
 ],
 "metadata": {
  "kernelspec": {
   "display_name": "Python 3 (ipykernel)",
   "language": "python",
   "name": "python3"
  },
  "language_info": {
   "codemirror_mode": {
    "name": "ipython",
    "version": 3
   },
   "file_extension": ".py",
   "mimetype": "text/x-python",
   "name": "python",
   "nbconvert_exporter": "python",
   "pygments_lexer": "ipython3",
   "version": "3.9.13"
  }
 },
 "nbformat": 4,
 "nbformat_minor": 2
}
